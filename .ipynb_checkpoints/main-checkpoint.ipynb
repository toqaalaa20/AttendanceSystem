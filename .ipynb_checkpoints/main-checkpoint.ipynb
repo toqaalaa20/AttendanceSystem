{
 "cells": [
  {
   "cell_type": "code",
   "execution_count": 13,
   "id": "503ba94a",
   "metadata": {},
   "outputs": [],
   "source": [
    "import numpy as np\n",
    "import cv2\n",
    "import os"
   ]
  },
  {
   "cell_type": "code",
   "execution_count": 14,
   "id": "2e043924",
   "metadata": {},
   "outputs": [],
   "source": [
    "def generate_frames(video, face_id):\n",
    "    cam = cv2.VideoCapture(video)\n",
    "    face_detector = cv2.CascadeClassifier('haarcascade_frontalface_default.xml')\n",
    "    count = 0\n",
    "    while True:\n",
    "        ret, img = cam.read()\n",
    "        if not ret:\n",
    "            print(\"Failed to capture video.\")\n",
    "            break\n",
    "\n",
    "        if face_detector.empty():\n",
    "            print(\"Error: Unable to load the Haar Cascade XML file.\")\n",
    "            exit()\n",
    "        gray = cv2.cvtColor(img, cv2.COLOR_BGR2GRAY)\n",
    "        faces = face_detector.detectMultiScale(gray, 1.3, 5)\n",
    "        for (x, y, w, h) in faces:\n",
    "            cv2.rectangle(img, (x, y), (x+w, y+h), (255, 0, 0), 2)\n",
    "            count += 1\n",
    "            cv2.imwrite(\"dataset/User.\" + str(face_id) + '.' +\n",
    "                        str(count) + \".jpg\", gray[y:y+h, x:x+w])\n",
    "        if count >= 30:  \n",
    "            break"
   ]
  },
  {
   "cell_type": "code",
   "execution_count": 15,
   "id": "cad0397f",
   "metadata": {},
   "outputs": [],
   "source": [
    "def generate_dataset():\n",
    "    cnt = 1\n",
    "    for video in os.listdir('videos'):\n",
    "        path  = os.path.join('videos', video)\n",
    "        generate_frames(path, cnt)\n",
    "        cnt+=1"
   ]
  },
  {
   "cell_type": "code",
   "execution_count": 16,
   "id": "eb523fd3",
   "metadata": {},
   "outputs": [],
   "source": [
    "# generate_dataset()"
   ]
  },
  {
   "cell_type": "code",
   "execution_count": null,
   "id": "d6aa414c",
   "metadata": {},
   "outputs": [],
   "source": []
  }
 ],
 "metadata": {
  "kernelspec": {
   "display_name": "Python 3 (ipykernel)",
   "language": "python",
   "name": "python3"
  },
  "language_info": {
   "codemirror_mode": {
    "name": "ipython",
    "version": 3
   },
   "file_extension": ".py",
   "mimetype": "text/x-python",
   "name": "python",
   "nbconvert_exporter": "python",
   "pygments_lexer": "ipython3",
   "version": "3.11.4"
  }
 },
 "nbformat": 4,
 "nbformat_minor": 5
}
